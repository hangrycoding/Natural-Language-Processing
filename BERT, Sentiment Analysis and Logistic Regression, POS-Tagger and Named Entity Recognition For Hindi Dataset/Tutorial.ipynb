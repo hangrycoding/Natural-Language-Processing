{
 "cells": [
  {
   "cell_type": "markdown",
   "id": "46471bfd",
   "metadata": {},
   "source": [
    "## HW1: Regex, wordnet"
   ]
  },
  {
   "cell_type": "code",
   "execution_count": 8,
   "id": "6ffebf23",
   "metadata": {},
   "outputs": [
    {
     "name": "stderr",
     "output_type": "stream",
     "text": [
      "[nltk_data] Downloading package wordnet to /home/rehan/nltk_data...\n",
      "[nltk_data]   Package wordnet is already up-to-date!\n",
      "[nltk_data] Downloading package omw-1.4 to /home/rehan/nltk_data...\n"
     ]
    },
    {
     "data": {
      "text/plain": [
       "True"
      ]
     },
     "execution_count": 8,
     "metadata": {},
     "output_type": "execute_result"
    }
   ],
   "source": [
    "import re\n",
    "from nltk.corpus import wordnet as wn\n",
    "from nltk import download\n",
    "\n",
    "download('wordnet')\n",
    "download('omw-1.4')"
   ]
  },
  {
   "cell_type": "code",
   "execution_count": 13,
   "id": "3933d747",
   "metadata": {},
   "outputs": [],
   "source": [
    "# opening a file\n",
    "\n",
    "with open('BERT-vocab.txt', encoding='utf8') as bert_f:\n",
    "    bert_vocab = [w.strip() for w in bert_f]  ## List Comprehension. Very useful!"
   ]
  },
  {
   "cell_type": "code",
   "execution_count": null,
   "id": "a1a3b6d3",
   "metadata": {},
   "outputs": [],
   "source": [
    "## Don't do this. Not pythonic!\n",
    "\n",
    "bert_vocab = []\n",
    "\n",
    "with open('BERT-vocab.txt', encoding='utf8') as bert_f:\n",
    "    for line in bert_f:\n",
    "        bert_vocab.append(line.strip())"
   ]
  },
  {
   "cell_type": "code",
   "execution_count": 14,
   "id": "cea467dd",
   "metadata": {},
   "outputs": [],
   "source": [
    "# wordnet as \"dictionary\"\n",
    "wn_words = set(wn.words())"
   ]
  },
  {
   "cell_type": "code",
   "execution_count": 16,
   "id": "87cd9793",
   "metadata": {},
   "outputs": [
    {
     "name": "stdout",
     "output_type": "stream",
     "text": [
      "BERT vocab len: 30522\n",
      "Wordnet vocan len: 147306\n",
      "BERT proper words: 14510\n"
     ]
    }
   ],
   "source": [
    "print(\"BERT vocab len:\", len(bert_vocab))\n",
    "print(\"Wordnet vocan len:\", len(wn_words))\n",
    "print(\"BERT proper words:\", len(wn_words.intersection(bert_vocab)))"
   ]
  },
  {
   "cell_type": "code",
   "execution_count": 26,
   "id": "2e15f6a6",
   "metadata": {},
   "outputs": [
    {
     "name": "stdout",
     "output_type": "stream",
     "text": [
      "Unused Words len: 994\n",
      "Special words len: 6\n",
      "Hash words len: 5829\n"
     ]
    }
   ],
   "source": [
    "## Filtering BERT Vocab with\n",
    "\n",
    "unused_words = [w for w in bert_vocab if '[unused' in w]\n",
    "print('Unused Words len:', len(unused_words))\n",
    "special_words = [w for w in bert_vocab if w.startswith('[') and w not in unused_words]\n",
    "print('Special words len:', len(special_words))\n",
    "hash_words = [w for w in bert_vocab if w.startswith('#')]\n",
    "print('Hash words len:', len(hash_words))\n",
    "\n",
    "## etc"
   ]
  },
  {
   "cell_type": "markdown",
   "id": "8506fd28",
   "metadata": {},
   "source": [
    "## HW2: Pytorch, spaCy"
   ]
  },
  {
   "cell_type": "code",
   "execution_count": 39,
   "id": "af7a0b62",
   "metadata": {},
   "outputs": [
    {
     "name": "stdout",
     "output_type": "stream",
     "text": [
      "tensor([[ 5.,  1.,  2.],\n",
      "        [ 3.,  1., -1.],\n",
      "        [-1.,  0.,  6.]])\n"
     ]
    },
    {
     "data": {
      "text/plain": [
       "(tensor([[0.8571, 0.2857, 0.4286],\n",
       "         [0.5714, 0.2857, 0.0000],\n",
       "         [0.0000, 0.1429, 1.0000]]),\n",
       " tensor([[1.0000, 1.0000, 0.4286],\n",
       "         [0.6667, 1.0000, 0.0000],\n",
       "         [0.0000, 0.0000, 1.0000]]))"
      ]
     },
     "execution_count": 39,
     "metadata": {},
     "output_type": "execute_result"
    }
   ],
   "source": [
    "import torch\n",
    "import spacy\n",
    "\n",
    "def scaling(X: torch.Tensor):\n",
    "    ## wrong:\n",
    "    scaled_X_wrong = (X - torch.min(X))/(torch.max(X) - torch.min(X))\n",
    "    ## correct:\n",
    "    scaled_X = (X - torch.min(X, dim=0).values)/(torch.max(X, dim=0).values - torch.min(X, dim=0).values)\n",
    "    return scaled_X_wrong, scaled_X\n",
    "\n",
    "x = torch.FloatTensor([[5, 1, 2], [3, 1, -1], [-1, 0, 6]])\n",
    "print(x)\n",
    "scaling(x)"
   ]
  },
  {
   "cell_type": "markdown",
   "id": "a9b28172",
   "metadata": {},
   "source": [
    "## HW3: Viterbi, Training Loop"
   ]
  },
  {
   "cell_type": "code",
   "execution_count": null,
   "id": "3da8b746",
   "metadata": {},
   "outputs": [],
   "source": []
  }
 ],
 "metadata": {
  "kernelspec": {
   "display_name": "Python 3 (ipykernel)",
   "language": "python",
   "name": "python3"
  },
  "language_info": {
   "codemirror_mode": {
    "name": "ipython",
    "version": 3
   },
   "file_extension": ".py",
   "mimetype": "text/x-python",
   "name": "python",
   "nbconvert_exporter": "python",
   "pygments_lexer": "ipython3",
   "version": "3.9.13"
  }
 },
 "nbformat": 4,
 "nbformat_minor": 5
}
